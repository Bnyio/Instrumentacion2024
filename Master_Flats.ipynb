{
 "cells": [
  {
   "cell_type": "code",
   "execution_count": 1,
   "metadata": {},
   "outputs": [],
   "source": [
    "#Paquetes necesarios: numpy, matplotlib y astropy\n",
    "import numpy as np\n",
    "import matplotlib.pyplot as plt\n",
    "from astropy.io import fits\n",
    "from astropy import units as u\n",
    "from astropy.visualization import ZScaleInterval\n",
    "from astropy.coordinates import SkyCoord"
   ]
  },
  {
   "cell_type": "code",
   "execution_count": 2,
   "metadata": {},
   "outputs": [],
   "source": [
    "#Abrimos los flats B, estos son de 10 segundos de exposición #### PARA FILTRO B ####\n",
    "flatB1=fits.open('flats/FLAT_B_B11-001.fit')[0].data\n",
    "flatB2=fits.open('flats/FLAT_B_B11-002.fit')[0].data\n",
    "flatB3=fits.open('flats/FLAT_B_B11-003.fit')[0].data\n",
    "flatB4=fits.open('flats/FLAT_B_B11-004.fit')[0].data\n",
    "flatB5=fits.open('flats/FLAT_B_B11-005.fit')[0].data\n",
    "flatB6=fits.open('flats/FLAT_B_B11-006.fit')[0].data\n",
    "flatB7=fits.open('flats/FLAT_B_B11-007.fit')[0].data\n",
    "flatB8=fits.open('flats/FLAT_B_B11-008.fit')[0].data\n",
    "flatB9=fits.open('flats/FLAT_B_B11-009.fit')[0].data\n",
    "flatB10=fits.open('flats/FLAT_B_B11-010.fit')[0].data"
   ]
  },
  {
   "cell_type": "code",
   "execution_count": 3,
   "metadata": {},
   "outputs": [],
   "source": [
    "#Abrimos los flats V, estos son de 10 segundos de exposición #### PARA FILTRO V ####\n",
    "flatV1=fits.open('flats/FLAT_V_B11-001.fit')[0].data\n",
    "flatV2=fits.open('flats/FLAT_V_B11-001.fit')[0].data\n",
    "flatV3=fits.open('flats/FLAT_V_B11-003.fit')[0].data\n",
    "flatV4=fits.open('flats/FLAT_V_B11-004.fit')[0].data\n",
    "flatV5=fits.open('flats/FLAT_V_B11-005.fit')[0].data\n",
    "flatV6=fits.open('flats/FLAT_V_B11-006.fit')[0].data\n",
    "flatV7=fits.open('flats/FLAT_V_B11-007.fit')[0].data\n",
    "flatV8=fits.open('flats/FLAT_V_B11-008.fit')[0].data\n",
    "flatV9=fits.open('flats/FLAT_V_B11-009.fit')[0].data\n",
    "flatV10=fits.open('flats/FLAT_V_B11-010.fit')[0].data"
   ]
  },
  {
   "cell_type": "code",
   "execution_count": 4,
   "metadata": {},
   "outputs": [],
   "source": [
    "with fits.open('master_bias.fit') as hdul:\n",
    "    master_bias = hdul[0].data\n",
    "with fits.open('dark_current.fit') as hdul:\n",
    "    dark_current = hdul[0].data    "
   ]
  },
  {
   "cell_type": "code",
   "execution_count": 5,
   "metadata": {},
   "outputs": [],
   "source": [
    "#Generemos un master flatB y normalizemoslo\n",
    "#Nuestros flats son de 10 segundos de exposición, pero nuestro master dark es de 600, entonces vamos a \n",
    "#preferir escalar el dark current a 10 segundo para obtener un master dark de 10 segundos aproximado\n",
    "master_flatB=np.median([flatB1-master_bias-dark_current*10,flatB2-master_bias-dark_current*10,\\\n",
    "    flatB3-master_bias-dark_current*10,flatB4-master_bias-dark_current*10,flatB5-master_bias-dark_current*10,\\\n",
    "    flatB6-master_bias-dark_current*10,flatB7-master_bias-dark_current*10,flatB8-master_bias-dark_current*10,\\\n",
    "    flatB9-master_bias-dark_current*10,flatB10-master_bias-dark_current*10],axis=0)\n",
    "master_flatB_norm=master_flatB/np.mean(master_flatB)"
   ]
  },
  {
   "cell_type": "code",
   "execution_count": 6,
   "metadata": {},
   "outputs": [],
   "source": [
    "#Generemos un master flatV y normalizemoslo\n",
    "#Nuestros flats son de 10 segundos de exposición, pero nuestro master dark es de 600, entonces vamos a \n",
    "#preferir escalar el dark current a 10 segundo para obtener un master dark de 10 segundos aproximado\n",
    "master_flatV=np.median([flatV1-master_bias-dark_current*10,flatV2-master_bias-dark_current*10,\\\n",
    "    flatV3-master_bias-dark_current*10,flatV4-master_bias-dark_current*10,flatV5-master_bias-dark_current*10,\\\n",
    "    flatV6-master_bias-dark_current*10,flatV7-master_bias-dark_current*10,flatV8-master_bias-dark_current*10,\\\n",
    "    flatV9-master_bias-dark_current*10,flatV10-master_bias-dark_current*10],axis=0)\n",
    "master_flatV_norm=master_flatV/np.mean(master_flatV)"
   ]
  },
  {
   "cell_type": "code",
   "execution_count": 7,
   "metadata": {},
   "outputs": [],
   "source": [
    "from astropy.io import fits\n",
    "hdu = fits.PrimaryHDU(master_flatB)\n",
    "hdu.writeto('master_flatB.fit', overwrite=True)\n",
    "hdu = fits.PrimaryHDU(master_flatB_norm)\n",
    "hdu.writeto('master_flatB_norm.fit', overwrite=True)\n",
    "hdu = fits.PrimaryHDU(master_flatV)\n",
    "hdu.writeto('master_flatV.fit', overwrite=True)\n",
    "hdu = fits.PrimaryHDU(master_flatV_norm)\n",
    "hdu.writeto('master_flatV_norm.fit', overwrite=True)"
   ]
  }
 ],
 "metadata": {
  "kernelspec": {
   "display_name": "Python 3",
   "language": "python",
   "name": "python3"
  },
  "language_info": {
   "codemirror_mode": {
    "name": "ipython",
    "version": 3
   },
   "file_extension": ".py",
   "mimetype": "text/x-python",
   "name": "python",
   "nbconvert_exporter": "python",
   "pygments_lexer": "ipython3",
   "version": "3.11.9"
  }
 },
 "nbformat": 4,
 "nbformat_minor": 2
}
